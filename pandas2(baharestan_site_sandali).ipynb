{
 "cells": [
  {
   "cell_type": "markdown",
   "id": "ac866130",
   "metadata": {},
   "source": [
    "### making site_sandali excel files in site folder(bahar_sandali_All + electro is needed)\n",
    "### use_bahar_sandali_full = bahar_sandali_All + electro"
   ]
  },
  {
   "cell_type": "code",
   "execution_count": 3,
   "id": "31ddc3ba",
   "metadata": {},
   "outputs": [],
   "source": [
    "import pandas as pd\n",
    "import os\n",
    "from openpyxl import load_workbook\n",
    "from openpyxl.utils import get_column_letter\n",
    "from openpyxl.styles import Alignment\n",
    "\n",
    "# مسیر فایل ورودی\n",
    "file_path = 'bahar_sandali_full.xlsx'\n",
    "\n",
    "# خواندن فایل اکسل\n",
    "df = pd.read_excel(file_path)\n",
    "\n",
    "# ساخت پوشه برای ذخیره فایل‌های خروجی\n",
    "output_dir = 'site'\n",
    "os.makedirs(output_dir, exist_ok=True)\n",
    "\n",
    "# دیکشنری عرض ستون‌ها (برحسب character width)\n",
    "column_widths = {\n",
    "    'std': 15,\n",
    "    'name': 10,\n",
    "    'fname': 13,\n",
    "    'code': 10,       # ≈ 100 pixels\n",
    "    'dars': 30,       # ≈ 300 pixels\n",
    "    'tarikh': 15,\n",
    "    'saat': 12,\n",
    "    'sandali': 8,\n",
    "    'noe': 10,\n",
    "    'makan': 15\n",
    "}\n",
    "\n",
    "# گروه‌بندی بر اساس tarikh و saat\n",
    "grouped = df.groupby(['tarikh', 'saat'])\n",
    "\n",
    "for (tarikh, saat), group in grouped:\n",
    "    # مرتب‌سازی بر اساس ستون fname\n",
    "    sorted_group = group.sort_values(by='fname')\n",
    "\n",
    "    # ساخت نام فایل\n",
    "    filename = f\"{tarikh}_{saat}\".replace(\"/\", \"-\").replace(\":\", \"-\") + \".xlsx\"\n",
    "    output_path = os.path.join(output_dir, filename)\n",
    "\n",
    "    # ذخیره به اکسل\n",
    "    sorted_group.to_excel(output_path, index=False)\n",
    "\n",
    "    # اعمال تنظیمات ظاهری با openpyxl\n",
    "    wb = load_workbook(output_path)\n",
    "    ws = wb.active\n",
    "\n",
    "    # وسط‌چین کردن همه سلول‌ها و تنظیم عرض ستون‌ها\n",
    "    for col_idx, column_cells in enumerate(ws.columns, start=1):\n",
    "        col_letter = get_column_letter(col_idx)\n",
    "        header = ws[f'{col_letter}1'].value\n",
    "        if header in column_widths:\n",
    "            ws.column_dimensions[col_letter].width = column_widths[header]\n",
    "        for cell in column_cells:\n",
    "            cell.alignment = Alignment(horizontal='center', vertical='center')\n",
    "\n",
    "    wb.save(output_path)\n",
    "\n"
   ]
  }
 ],
 "metadata": {
  "kernelspec": {
   "display_name": "my_env",
   "language": "python",
   "name": "python3"
  },
  "language_info": {
   "codemirror_mode": {
    "name": "ipython",
    "version": 3
   },
   "file_extension": ".py",
   "mimetype": "text/x-python",
   "name": "python",
   "nbconvert_exporter": "python",
   "pygments_lexer": "ipython3",
   "version": "3.13.0"
  }
 },
 "nbformat": 4,
 "nbformat_minor": 5
}
