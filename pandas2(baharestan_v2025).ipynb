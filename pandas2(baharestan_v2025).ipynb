{
 "cells": [
  {
   "cell_type": "markdown",
   "metadata": {},
   "source": [
    "### Baharestan Statistics,Pockets,site_sandali : use bahar_sandali_All.xlsx\n",
    "#### result is : bahar_prep1.xlsx"
   ]
  },
  {
   "cell_type": "code",
   "execution_count": 1,
   "metadata": {},
   "outputs": [
    {
     "name": "stdout",
     "output_type": "stream",
     "text": [
      "DataFrame successfully saved to bahar_prep1.xlsx\n"
     ]
    }
   ],
   "source": [
    "import pandas as pd\n",
    "import os\n",
    "import shutil\n",
    "from openpyxl import Workbook\n",
    "from openpyxl.styles import Alignment\n",
    "from openpyxl.utils import get_column_letter\n",
    "\n",
    "data = pd.read_excel('bahar_sandali_All.xlsx')  \n",
    "df = pd.DataFrame(data)  \n",
    "\n",
    "\n",
    "df['tedad'] = 1\n",
    "\n",
    "# گروه‌بندی و جمع‌آوری داده‌ها\n",
    "result = df.groupby(['makan','code']).agg(\n",
    "    tedad2=('tedad', 'sum'),\n",
    "    sandaliFirst=('sandali', 'min'),\n",
    "    sandaliEnd=('sandali', 'max'),\n",
    "    tarikh=('tarikh','first'),\n",
    "    saat=('saat','first'),\n",
    "    #makan=('makan','first'),\n",
    "    noe=('noe','first'),\n",
    "    dars=('dars','first')\n",
    "\n",
    "    \n",
    ").reset_index()\n",
    "\n",
    "#result = result.merge(df[['code', 'dars','noe','tarikh','saat']], on='code', how='left')\n",
    "result = result.sort_values(by=['tarikh', 'saat','makan'])\n",
    "\n",
    "result.to_excel('bahar_prep1.xlsx', index=False)\n",
    "\n",
    "print(\"DataFrame successfully saved to bahar_prep1.xlsx\")\n"
   ]
  },
  {
   "cell_type": "markdown",
   "metadata": {},
   "source": [
    "### Baharestan Generate Pockets : use bahar_prep1.xlsx"
   ]
  },
  {
   "cell_type": "code",
   "execution_count": 2,
   "metadata": {},
   "outputs": [
    {
     "data": {
      "text/plain": [
       "'Baharestan_pocket.docx'"
      ]
     },
     "execution_count": 2,
     "metadata": {},
     "output_type": "execute_result"
    }
   ],
   "source": [
    "import pandas as pd\n",
    "from docx import Document\n",
    "from docx.shared import Inches\n",
    "from docx.oxml.ns import qn\n",
    "from docx.oxml import OxmlElement\n",
    "\n",
    "# خواندن فایل اکسل فقط با ستون‌های موردنظر\n",
    "columns_to_include = ['dars', 'noe', 'saat', 'tarikh', 'tedad2', 'code', 'makan']\n",
    "df = pd.read_excel('bahar_prep1.xlsx', usecols=columns_to_include)\n",
    "\n",
    "# اطمینان از ترتیب ستون‌ها\n",
    "df = df[columns_to_include]\n",
    "\n",
    "# ایجاد سند ورد\n",
    "doc = Document()\n",
    "\n",
    "# تنظیم عرض ستون‌ها به پیکسل، و تبدیل به اینچ\n",
    "column_widths_px = {\n",
    "    'dars': 290,\n",
    "    'noe': 200,\n",
    "    'saat': 80,\n",
    "    'tarikh': 100,\n",
    "    'tedad2': 40,\n",
    "    'code': 80,\n",
    "    'makan': 190\n",
    "}\n",
    "spacing_num = 2.2\n",
    "column_widths_inch = {col: Inches(px / 96) for col, px in column_widths_px.items()}\n",
    "\n",
    "# تابع تنظیم عرض ستون‌ها\n",
    "def set_col_widths(table, widths):\n",
    "    for row in table.rows:\n",
    "        for idx, width in enumerate(widths):\n",
    "            cell = row.cells[idx]\n",
    "            cell.width = width\n",
    "            tc = cell._tc\n",
    "            tcPr = tc.get_or_add_tcPr()\n",
    "            tcW = OxmlElement('w:tcW')\n",
    "            tcW.set(qn('w:type'), 'dxa')\n",
    "            tcW.set(qn('w:w'), str(int(width.inches * 1440)))\n",
    "            tcPr.append(tcW)\n",
    "\n",
    "# تابع تنظیم فاصله خطوط داخل سلول‌ها\n",
    "def set_line_spacing(cell, spacing=spacing_num):\n",
    "    for paragraph in cell.paragraphs:\n",
    "        paragraph.paragraph_format.line_spacing = spacing\n",
    "\n",
    "# متغیرهای کنترلی برای گروه‌بندی\n",
    "current_makan = None\n",
    "current_group = []\n",
    "\n",
    "# پردازش داده‌ها\n",
    "for idx, row in df.iterrows():\n",
    "    if current_makan is None:\n",
    "        current_makan = row['makan']\n",
    "\n",
    "    if row['makan'] != current_makan:\n",
    "        if current_group:\n",
    "            doc.add_heading(f'{current_makan}', level=1)\n",
    "            table = doc.add_table(rows=1, cols=len(columns_to_include))\n",
    "            table.style = 'Table Grid'\n",
    "            \n",
    "            # ردیف عنوان\n",
    "            for j, col_name in enumerate(columns_to_include):\n",
    "                cell = table.cell(0, j)\n",
    "                cell.text = str(col_name)\n",
    "                set_line_spacing(cell, spacing=spacing_num)\n",
    "            \n",
    "            # ردیف‌های داده\n",
    "            for item in current_group:\n",
    "                row_cells = table.add_row().cells\n",
    "                for j, val in enumerate(item):\n",
    "                    row_cells[j].text = str(val)\n",
    "                    set_line_spacing(row_cells[j], spacing=spacing_num)\n",
    "\n",
    "            set_col_widths(table, [column_widths_inch[col] for col in columns_to_include])\n",
    "            doc.add_page_break()\n",
    "\n",
    "        current_makan = row['makan']\n",
    "        current_group = [row.tolist()]\n",
    "    else:\n",
    "        current_group.append(row.tolist())\n",
    "\n",
    "# اضافه کردن آخرین گروه\n",
    "if current_group:\n",
    "    doc.add_heading(f'{current_makan}', level=1)\n",
    "    table = doc.add_table(rows=1, cols=len(columns_to_include))\n",
    "    table.style = 'Table Grid'\n",
    "\n",
    "    for j, col_name in enumerate(columns_to_include):\n",
    "        cell = table.cell(0, j)\n",
    "        cell.text = str(col_name)\n",
    "        set_line_spacing(cell, spacing=1.5)\n",
    "\n",
    "    for item in current_group:\n",
    "        row_cells = table.add_row().cells\n",
    "        for j, val in enumerate(item):\n",
    "            row_cells[j].text = str(val)\n",
    "            set_line_spacing(row_cells[j], spacing=spacing_num)\n",
    "\n",
    "    set_col_widths(table, [column_widths_inch[col] for col in columns_to_include])\n",
    "\n",
    "# ذخیره فایل ورد\n",
    "final_output_path = \"Baharestan_pocket.docx\"\n",
    "doc.save(final_output_path)\n",
    "\n",
    "final_output_path\n"
   ]
  }
 ],
 "metadata": {
  "kernelspec": {
   "display_name": "Akb_env",
   "language": "python",
   "name": "python3"
  },
  "language_info": {
   "codemirror_mode": {
    "name": "ipython",
    "version": 3
   },
   "file_extension": ".py",
   "mimetype": "text/x-python",
   "name": "python",
   "nbconvert_exporter": "python",
   "pygments_lexer": "ipython3",
   "version": "3.13.0"
  }
 },
 "nbformat": 4,
 "nbformat_minor": 2
}
