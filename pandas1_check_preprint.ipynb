{
 "cells": [
  {
   "cell_type": "markdown",
   "id": "7e27a984",
   "metadata": {},
   "source": [
    "### ckeck if sandali numbers is true?\n",
    "### and save results in invalid_codes.txt"
   ]
  },
  {
   "cell_type": "code",
   "execution_count": 6,
   "id": "8b036872",
   "metadata": {},
   "outputs": [
    {
     "name": "stdout",
     "output_type": "stream",
     "text": [
      "Saved to: invalid_codes_mahdasht.txt\n"
     ]
    }
   ],
   "source": [
    "import pandas as pd\n",
    "\n",
    "def has_step_three_or_more(values):\n",
    "    if len(values) < 2:\n",
    "        return False\n",
    "    return any((values[i+1] - values[i] >= 3) for i in range(len(values)-1))\n",
    "\n",
    "def find_invalid_codes(filepath):\n",
    "    df = pd.read_excel(filepath)\n",
    "    invalid_codes = []\n",
    "\n",
    "    for code in df['code'].unique():\n",
    "        sub_df = df[df['code'] == code].copy()\n",
    "        sandali_sorted = sorted(sub_df['sandali'].dropna().astype(int).tolist())\n",
    "        if has_step_three_or_more(sandali_sorted):\n",
    "            invalid_codes.append(code)\n",
    "\n",
    "    return invalid_codes\n",
    "\n",
    "if __name__ == '__main__':\n",
    "    filepath = 'preprint1.xlsx'  \n",
    "    result = find_invalid_codes(filepath)\n",
    "\n",
    "    with open(\"invalid_codes_mahdasht.txt\", \"w\", encoding=\"utf-8\") as f:\n",
    "        f.write(\"کدهایی که گام افزایش صندلی آن‌ها ۳ یا بیشتر است:\\n\")\n",
    "        for code in result:\n",
    "            f.write(f\"{code}\\n\")\n",
    "print(\"Saved to:\", \"invalid_codes_mahdasht.txt\")\n"
   ]
  }
 ],
 "metadata": {
  "kernelspec": {
   "display_name": "Akb_env",
   "language": "python",
   "name": "python3"
  },
  "language_info": {
   "codemirror_mode": {
    "name": "ipython",
    "version": 3
   },
   "file_extension": ".py",
   "mimetype": "text/x-python",
   "name": "python",
   "nbconvert_exporter": "python",
   "pygments_lexer": "ipython3",
   "version": "3.13.0"
  }
 },
 "nbformat": 4,
 "nbformat_minor": 5
}
