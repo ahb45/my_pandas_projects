{
 "cells": [
  {
   "cell_type": "markdown",
   "metadata": {},
   "source": [
    "divide amval excell file by name column and save them"
   ]
  },
  {
   "cell_type": "code",
   "execution_count": 2,
   "metadata": {},
   "outputs": [
    {
     "name": "stdout",
     "output_type": "stream",
     "text": [
      "فایل 'amval_files\\اصغر موسی پور.xlsx' ایجاد شد.\n",
      "فایل 'amval_files\\امبن کاظمی.xlsx' ایجاد شد.\n",
      "فایل 'amval_files\\امجد اعظمی.xlsx' ایجاد شد.\n",
      "فایل 'amval_files\\حسن پناهی.xlsx' ایجاد شد.\n",
      "فایل 'amval_files\\حسین شاهدی.xlsx' ایجاد شد.\n",
      "فایل 'amval_files\\روح انگیز میلانیان.xlsx' ایجاد شد.\n",
      "فایل 'amval_files\\سعید خزاعی.xlsx' ایجاد شد.\n",
      "فایل 'amval_files\\سیدعلی موسوی اصل.xlsx' ایجاد شد.\n",
      "فایل 'amval_files\\عسگر شهیری.xlsx' ایجاد شد.\n",
      "فایل 'amval_files\\علی صفری.xlsx' ایجاد شد.\n",
      "فایل 'amval_files\\علیرضا علی دادی.xlsx' ایجاد شد.\n",
      "فایل 'amval_files\\غلامعلی  بخشنده.xlsx' ایجاد شد.\n",
      "فایل 'amval_files\\فرزاد  سلیمانی.xlsx' ایجاد شد.\n",
      "فایل 'amval_files\\فریبا  قائدی.xlsx' ایجاد شد.\n",
      "فایل 'amval_files\\محسن احمدی ارجقی.xlsx' ایجاد شد.\n",
      "فایل 'amval_files\\محمد زبردست.xlsx' ایجاد شد.\n",
      "فایل 'amval_files\\محمد شفیعی.xlsx' ایجاد شد.\n",
      "فایل 'amval_files\\محمدصادق آخوندی خضرآباد.xlsx' ایجاد شد.\n",
      "فایل 'amval_files\\معصومه  فعال.xlsx' ایجاد شد.\n",
      "فایل 'amval_files\\مهدی نوری.xlsx' ایجاد شد.\n"
     ]
    }
   ],
   "source": [
    "import pandas as pd\n",
    "import os\n",
    "\n",
    "# خواندن فایل اکسل\n",
    "def split_excel_by_name(input_file):\n",
    "    df = pd.read_excel(input_file)\n",
    "    \n",
    "    # بررسی اینکه ستون name وجود دارد یا نه\n",
    "    if 'name' not in df.columns:\n",
    "        print(\"ستون 'name' در فایل یافت نشد!\")\n",
    "        return\n",
    "    \n",
    "    # ایجاد پوشه برای ذخیره فایل‌ها\n",
    "    output_folder = \"amval_files\"\n",
    "    os.makedirs(output_folder, exist_ok=True)\n",
    "    \n",
    "    # گروه‌بندی داده‌ها بر اساس ستون name و ذخیره هر گروه در یک فایل اکسل جداگانه\n",
    "    for name, group in df.groupby('name'):\n",
    "        output_file = os.path.join(output_folder, f\"{name}.xlsx\")\n",
    "        group.to_excel(output_file, index=False)\n",
    "        print(f\"فایل '{output_file}' ایجاد شد.\")\n",
    "\n",
    "# مسیر فایل ورودی\n",
    "target_file = \"amval.xlsx\"\n",
    "split_excel_by_name(target_file)\n"
   ]
  }
 ],
 "metadata": {
  "kernelspec": {
   "display_name": "my_env",
   "language": "python",
   "name": "python3"
  },
  "language_info": {
   "codemirror_mode": {
    "name": "ipython",
    "version": 3
   },
   "file_extension": ".py",
   "mimetype": "text/x-python",
   "name": "python",
   "nbconvert_exporter": "python",
   "pygments_lexer": "ipython3",
   "version": "3.13.0"
  }
 },
 "nbformat": 4,
 "nbformat_minor": 2
}
