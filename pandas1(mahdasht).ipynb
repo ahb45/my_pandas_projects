{
 "cells": [
  {
   "cell_type": "markdown",
   "metadata": {},
   "source": [
    "### mahdasht Pockets : use preprint1.xlsx for generate prep3.xlsx"
   ]
  },
  {
   "cell_type": "code",
   "execution_count": 1,
   "metadata": {},
   "outputs": [
    {
     "name": "stdout",
     "output_type": "stream",
     "text": [
      "DataFrame successfully saved to prep3.xlsx\n"
     ]
    }
   ],
   "source": [
    "import pandas as pd\n",
    "\n",
    "data = pd.read_excel('preprint1.xlsx')  \n",
    "df = pd.DataFrame(data)  \n",
    "\n",
    "\n",
    "df['tedad'] = 1\n",
    "\n",
    "# گروه‌بندی و جمع‌آوری داده‌ها\n",
    "result = df.groupby('code').agg(\n",
    "    tedad2=('tedad', 'sum'),\n",
    "    sandaliFirst=('sandali', 'min'),\n",
    "    sandaliEnd=('sandali', 'max'),\n",
    "    tarikh=('tarikh','first'),\n",
    "    saat=('saat','first'),\n",
    "    noe=('noe','first'),\n",
    "    dars=('dars','first')\n",
    "\n",
    "    \n",
    ").reset_index()\n",
    "\n",
    "#result = result.merge(df[['code', 'dars','noe','tarikh','saat']], on='code', how='left')\n",
    "result = result.sort_values(by=['tarikh', 'saat'])\n",
    "#print(result)\n",
    "#print (data)\n",
    "result.to_excel('prep3.xlsx', index=False)\n",
    "\n",
    "print(\"DataFrame successfully saved to prep3.xlsx\")\n"
   ]
  },
  {
   "cell_type": "markdown",
   "metadata": {},
   "source": [
    "## prepare final word document - mahdasht_preprint.docx"
   ]
  },
  {
   "cell_type": "code",
   "execution_count": 2,
   "metadata": {},
   "outputs": [
    {
     "name": "stdout",
     "output_type": "stream",
     "text": [
      "فایل ذخیره شد: mahdasht_preprint.docx\n"
     ]
    }
   ],
   "source": [
    "from docx import Document\n",
    "from docx.shared import Inches, Pt, Cm\n",
    "from docx.enum.section import WD_ORIENT\n",
    "from docx.enum.text import WD_PARAGRAPH_ALIGNMENT\n",
    "from openpyxl import load_workbook\n",
    "\n",
    "def excel_to_styled_word(excel_path, output_word_path):\n",
    "    # بارگذاری فایل اکسل\n",
    "    wb = load_workbook(excel_path)\n",
    "    ws = wb.active\n",
    "\n",
    "    # ساخت سند ورد\n",
    "    doc = Document()\n",
    "\n",
    "    # تنظیم صفحه A5 و حاشیه‌ها\n",
    "    section = doc.sections[0]\n",
    "    section.page_height = Inches(8.3)\n",
    "    section.page_width = Inches(5.8)\n",
    "    section.orientation = WD_ORIENT.PORTRAIT\n",
    "    section.left_margin = Cm(2)\n",
    "    section.right_margin = Cm(1.5)\n",
    "    section.top_margin = Cm(1.5)\n",
    "    section.bottom_margin = Cm(1.5)\n",
    "\n",
    "    # فونت پیش‌فرض\n",
    "    style = doc.styles['Normal']\n",
    "    font = style.font\n",
    "    font.name = 'B Nazanin'  # اگر نصب نیست می‌تونید Arial بذارید\n",
    "    font.size = Pt(22)\n",
    "\n",
    "    # تابع افزودن صفحه برای هر ردیف\n",
    "    def add_exam_page(row):\n",
    "        code_dars = row[0]\n",
    "        tedad = row[1]\n",
    "        start_sandali = row[2]\n",
    "        end_sandali = row[3]\n",
    "        tarikh = row[4]\n",
    "        saat = row[5]\n",
    "        noe_emtehan = row[6]\n",
    "        name_dars = row[7]\n",
    "\n",
    "        # هدر راست‌چین\n",
    "        header = doc.sections[-1].header\n",
    "        paragraph = header.paragraphs[0]\n",
    "        paragraph.text = \" امتحانات\"\n",
    "        paragraph.alignment = WD_PARAGRAPH_ALIGNMENT.RIGHT\n",
    "        paragraph.style.font.name = 'B Nazanin'\n",
    "        paragraph.style.font.size = Pt(20)\n",
    "\n",
    "        # عنوان نام درس\n",
    "        \"\"\"title_para = doc.add_paragraph(name_dars)\n",
    "        title_para.alignment = WD_PARAGRAPH_ALIGNMENT.RIGHT\n",
    "        title_run = title_para.runs[0]\n",
    "        title_run.font.size = Pt(18)\n",
    "        title_run.font.bold = True\"\"\"\n",
    "\n",
    "        # اطلاعات امتحان\n",
    "        def add_rtl_paragraph(text):\n",
    "            para = doc.add_paragraph(text)\n",
    "            para.alignment = WD_PARAGRAPH_ALIGNMENT.RIGHT\n",
    "        add_rtl_paragraph(f\"نام درس          {name_dars}\")\n",
    "        add_rtl_paragraph(f\"کد درس     {code_dars}\")\n",
    "        add_rtl_paragraph(f\"تاریخ      {tarikh}      \")\n",
    "        add_rtl_paragraph(f\"ساعت       {saat}\")\n",
    "        add_rtl_paragraph(f\" صندلی شروع    {start_sandali}      پایان    {end_sandali}\")\n",
    "        add_rtl_paragraph(f\"نوع امتحان       {noe_emtehan}\")\n",
    "        add_rtl_paragraph(f\" تعداد       {tedad}\")\n",
    "\n",
    "        doc.add_page_break()\n",
    "\n",
    "    # پیمایش ردیف‌ها و ساخت صفحات\n",
    "    for row in ws.iter_rows(min_row=2, values_only=True):\n",
    "        add_exam_page(row)\n",
    "\n",
    "    # ذخیره فایل نهایی\n",
    "    doc.save(output_word_path)\n",
    "    print(f\"فایل ذخیره شد: {output_word_path}\")\n",
    "\n",
    "# مسیرها\n",
    "excel_path = \"prep3.xlsx\"\n",
    "output_path = \"mahdasht_preprint.docx\"\n",
    "\n",
    "# اجرا\n",
    "excel_to_styled_word(excel_path, output_path)\n"
   ]
  }
 ],
 "metadata": {
  "kernelspec": {
   "display_name": "Akb_env",
   "language": "python",
   "name": "python3"
  },
  "language_info": {
   "codemirror_mode": {
    "name": "ipython",
    "version": 3
   },
   "file_extension": ".py",
   "mimetype": "text/x-python",
   "name": "python",
   "nbconvert_exporter": "python",
   "pygments_lexer": "ipython3",
   "version": "3.13.0"
  }
 },
 "nbformat": 4,
 "nbformat_minor": 2
}
